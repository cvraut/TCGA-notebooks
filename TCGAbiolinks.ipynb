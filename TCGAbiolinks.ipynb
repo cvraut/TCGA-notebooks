{
 "cells": [
  {
   "cell_type": "code",
   "execution_count": 2,
   "id": "2bde374d-da5f-4ee9-a62e-bfb023cfc8bc",
   "metadata": {
    "collapsed": true,
    "jupyter": {
     "outputs_hidden": true
    },
    "tags": []
   },
   "outputs": [
    {
     "name": "stdout",
     "output_type": "stream",
     "text": [
      "package 'BiocManager' successfully unpacked and MD5 sums checked\n",
      "\n",
      "The downloaded binary packages are in\n",
      "\tC:\\Users\\craut\\AppData\\Local\\Temp\\Rtmp4eJNy8\\downloaded_packages\n"
     ]
    },
    {
     "name": "stderr",
     "output_type": "stream",
     "text": [
      "'getOption(\"repos\")' replaces Bioconductor standard repositories, see\n",
      "'?repositories' for details\n",
      "\n",
      "replacement repositories:\n",
      "    CRAN: https://cran.r-project.org\n",
      "\n",
      "\n",
      "Bioconductor version 3.13 (BiocManager 1.30.16), R 4.1.0 (2021-05-18)\n",
      "\n",
      "Installing package(s) 'BiocVersion'\n",
      "\n"
     ]
    },
    {
     "name": "stdout",
     "output_type": "stream",
     "text": [
      "package 'BiocVersion' successfully unpacked and MD5 sums checked\n",
      "\n",
      "The downloaded binary packages are in\n",
      "\tC:\\Users\\craut\\AppData\\Local\\Temp\\Rtmp4eJNy8\\downloaded_packages\n"
     ]
    },
    {
     "name": "stderr",
     "output_type": "stream",
     "text": [
      "Old packages: 'cachem', 'htmltools', 'Matrix', 'mgcv', 'stringi', 'survival',\n",
      "  'tibble'\n",
      "\n"
     ]
    }
   ],
   "source": [
    "if (!requireNamespace(\"BiocManager\", quietly = TRUE))\n",
    "    install.packages(\"BiocManager\")\n",
    "BiocManager::install(version = \"3.13\")"
   ]
  },
  {
   "cell_type": "code",
   "execution_count": 3,
   "id": "66dff269-e6b5-4493-9b62-239b16e1743e",
   "metadata": {
    "collapsed": true,
    "jupyter": {
     "outputs_hidden": true
    },
    "tags": []
   },
   "outputs": [
    {
     "name": "stderr",
     "output_type": "stream",
     "text": [
      "'getOption(\"repos\")' replaces Bioconductor standard repositories, see\n",
      "'?repositories' for details\n",
      "\n",
      "replacement repositories:\n",
      "    CRAN: https://cran.r-project.org\n",
      "\n",
      "\n",
      "Bioconductor version 3.13 (BiocManager 1.30.16), R 4.1.0 (2021-05-18)\n",
      "\n",
      "Installing package(s) 'BiocVersion', 'TCGAbiolinks'\n",
      "\n",
      "also installing the dependencies 'blob', 'plogr', 'png', 'Biostrings', 'assertthat', 'bitops', 'colorspace', 'bit', 'DBI', 'RSQLite', 'KEGGREST', 'dbplyr', 'filelock', 'RCurl', 'GenomeInfoDbData', 'zlibbioc', 'farver', 'labeling', 'munsell', 'RColorBrewer', 'viridisLite', 'matrixStats', 'bit64', 'AnnotationDbi', 'progress', 'BiocFileCache', 'generics', 'tidyselect', 'BiocGenerics', 'GenomeInfoDb', 'XVector', 'gtable', 'isoband', 'scales', 'selectr', 'R.oo', 'R.methodsS3', 'MatrixGenerics', 'Biobase', 'DelayedArray', 'hms', 'vroom', 'cpp11', 'tzdb', 'downloader', 'biomaRt', 'dplyr', 'GenomicRanges', 'XML', 'data.table', 'plyr', 'ggplot2', 'IRanges', 'rvest', 'S4Vectors', 'R.utils', 'SummarizedExperiment', 'TCGAbiolinksGUI.data', 'readr', 'tidyr'\n",
      "\n",
      "\n"
     ]
    },
    {
     "name": "stdout",
     "output_type": "stream",
     "text": [
      "\n",
      "  There are binary versions available but the source versions are later:\n",
      "            binary source needs_compilation\n",
      "RSQLite      2.2.7  2.2.8              TRUE\n",
      "matrixStats 0.60.0 0.60.1              TRUE\n",
      "\n",
      "  Binaries will be installed\n",
      "package 'blob' successfully unpacked and MD5 sums checked\n",
      "package 'plogr' successfully unpacked and MD5 sums checked\n",
      "package 'png' successfully unpacked and MD5 sums checked\n",
      "package 'Biostrings' successfully unpacked and MD5 sums checked\n",
      "package 'assertthat' successfully unpacked and MD5 sums checked\n",
      "package 'bitops' successfully unpacked and MD5 sums checked\n",
      "package 'colorspace' successfully unpacked and MD5 sums checked\n",
      "package 'bit' successfully unpacked and MD5 sums checked\n",
      "package 'DBI' successfully unpacked and MD5 sums checked\n",
      "package 'RSQLite' successfully unpacked and MD5 sums checked\n",
      "package 'KEGGREST' successfully unpacked and MD5 sums checked\n",
      "package 'dbplyr' successfully unpacked and MD5 sums checked\n",
      "package 'filelock' successfully unpacked and MD5 sums checked\n",
      "package 'RCurl' successfully unpacked and MD5 sums checked\n",
      "package 'zlibbioc' successfully unpacked and MD5 sums checked\n",
      "package 'farver' successfully unpacked and MD5 sums checked\n",
      "package 'labeling' successfully unpacked and MD5 sums checked\n",
      "package 'munsell' successfully unpacked and MD5 sums checked\n",
      "package 'RColorBrewer' successfully unpacked and MD5 sums checked\n",
      "package 'viridisLite' successfully unpacked and MD5 sums checked\n",
      "package 'matrixStats' successfully unpacked and MD5 sums checked\n",
      "package 'bit64' successfully unpacked and MD5 sums checked\n",
      "package 'AnnotationDbi' successfully unpacked and MD5 sums checked\n",
      "package 'progress' successfully unpacked and MD5 sums checked\n",
      "package 'BiocFileCache' successfully unpacked and MD5 sums checked\n",
      "package 'generics' successfully unpacked and MD5 sums checked\n",
      "package 'tidyselect' successfully unpacked and MD5 sums checked\n",
      "package 'BiocGenerics' successfully unpacked and MD5 sums checked\n",
      "package 'GenomeInfoDb' successfully unpacked and MD5 sums checked\n",
      "package 'XVector' successfully unpacked and MD5 sums checked\n",
      "package 'gtable' successfully unpacked and MD5 sums checked\n",
      "package 'isoband' successfully unpacked and MD5 sums checked\n",
      "package 'scales' successfully unpacked and MD5 sums checked\n",
      "package 'selectr' successfully unpacked and MD5 sums checked\n",
      "package 'R.oo' successfully unpacked and MD5 sums checked\n",
      "package 'R.methodsS3' successfully unpacked and MD5 sums checked\n",
      "package 'MatrixGenerics' successfully unpacked and MD5 sums checked\n",
      "package 'Biobase' successfully unpacked and MD5 sums checked\n",
      "package 'DelayedArray' successfully unpacked and MD5 sums checked\n",
      "package 'hms' successfully unpacked and MD5 sums checked\n",
      "package 'vroom' successfully unpacked and MD5 sums checked\n",
      "package 'cpp11' successfully unpacked and MD5 sums checked\n",
      "package 'tzdb' successfully unpacked and MD5 sums checked\n",
      "package 'downloader' successfully unpacked and MD5 sums checked\n",
      "package 'biomaRt' successfully unpacked and MD5 sums checked\n",
      "package 'dplyr' successfully unpacked and MD5 sums checked\n",
      "package 'GenomicRanges' successfully unpacked and MD5 sums checked\n",
      "package 'XML' successfully unpacked and MD5 sums checked\n",
      "package 'data.table' successfully unpacked and MD5 sums checked\n",
      "package 'plyr' successfully unpacked and MD5 sums checked\n",
      "package 'ggplot2' successfully unpacked and MD5 sums checked\n",
      "package 'IRanges' successfully unpacked and MD5 sums checked\n",
      "package 'rvest' successfully unpacked and MD5 sums checked\n",
      "package 'S4Vectors' successfully unpacked and MD5 sums checked\n",
      "package 'R.utils' successfully unpacked and MD5 sums checked\n",
      "package 'SummarizedExperiment' successfully unpacked and MD5 sums checked\n",
      "package 'readr' successfully unpacked and MD5 sums checked\n",
      "package 'tidyr' successfully unpacked and MD5 sums checked\n",
      "package 'BiocVersion' successfully unpacked and MD5 sums checked\n",
      "package 'TCGAbiolinks' successfully unpacked and MD5 sums checked\n",
      "\n",
      "The downloaded binary packages are in\n",
      "\tC:\\Users\\craut\\AppData\\Local\\Temp\\Rtmp4eJNy8\\downloaded_packages\n"
     ]
    },
    {
     "name": "stderr",
     "output_type": "stream",
     "text": [
      "installing the source packages 'GenomeInfoDbData', 'TCGAbiolinksGUI.data'\n",
      "\n",
      "\n",
      "Old packages: 'cachem', 'htmltools', 'Matrix', 'mgcv', 'stringi', 'survival',\n",
      "  'tibble'\n",
      "\n"
     ]
    }
   ],
   "source": [
    "BiocManager::install(\"TCGAbiolinks\")"
   ]
  },
  {
   "cell_type": "code",
   "execution_count": 5,
   "id": "80a89ce9-9c9d-4ded-b6e7-091d8936a058",
   "metadata": {},
   "outputs": [],
   "source": [
    "library(TCGAbiolinks)"
   ]
  },
  {
   "cell_type": "markdown",
   "id": "97240bcd-2c4a-4e0f-b987-d36f16f076c9",
   "metadata": {},
   "source": [
    "Query the BRCA project from TCGA to get the Illumina Human Methylation 450 epigentic information"
   ]
  },
  {
   "cell_type": "code",
   "execution_count": 7,
   "id": "88dce1fd-56ff-48a6-961e-b57d64d1a52c",
   "metadata": {
    "collapsed": true,
    "jupyter": {
     "outputs_hidden": true
    },
    "tags": []
   },
   "outputs": [
    {
     "name": "stderr",
     "output_type": "stream",
     "text": [
      "--------------------------------------\n",
      "\n",
      "o GDCquery: Searching in GDC database\n",
      "\n",
      "--------------------------------------\n",
      "\n",
      "Genome of reference: hg19\n",
      "\n",
      "--------------------------------------------\n",
      "\n",
      "oo Accessing GDC. This might take a while...\n",
      "\n",
      "--------------------------------------------\n",
      "\n",
      "ooo Project: TCGA-BRCA\n",
      "\n",
      "--------------------\n",
      "\n",
      "oo Filtering results\n",
      "\n",
      "--------------------\n",
      "\n",
      "ooo By platform\n",
      "\n",
      "----------------\n",
      "\n",
      "oo Checking data\n",
      "\n",
      "----------------\n",
      "\n",
      "ooo Check if there are duplicated cases\n",
      "\n",
      "ooo Check if there results for the query\n",
      "\n",
      "-------------------\n",
      "\n",
      "o Preparing output\n",
      "\n",
      "-------------------\n",
      "\n"
     ]
    }
   ],
   "source": [
    "query <- GDCquery(project = \"TCGA-BRCA\",\n",
    "                 data.category = \"DNA methylation\",\n",
    "                 platform = \"Illumina Human Methylation 450\",\n",
    "                 legacy = T)"
   ]
  },
  {
   "cell_type": "code",
   "execution_count": 12,
   "id": "01886aee-d1f7-4d18-9127-a3161e9f853d",
   "metadata": {},
   "outputs": [],
   "source": [
    "legacyPipeline <- function(project, data.category, platform, n = 20){\n",
    "    query <- GDCquery(project = project,\n",
    "                      data.category = data.category,\n",
    "                      platform = platform,\n",
    "                      legacy = TRUE)\n",
    "    cases <- query$results[[1]]$cases[1:n] # Get two samples from the search\n",
    "    query <- GDCquery(project = project,\n",
    "                      data.category = data.category,\n",
    "                      platform = platform,\n",
    "                      legacy = TRUE,\n",
    "                      barcode = cases)\n",
    "    GDCdownload(query)\n",
    "    data <- GDCprepare(query)\n",
    "    return(data)\n",
    "}"
   ]
  },
  {
   "cell_type": "code",
   "execution_count": 13,
   "id": "ebd802e8-f67e-4872-ae4d-28b4e2df455c",
   "metadata": {},
   "outputs": [
    {
     "name": "stderr",
     "output_type": "stream",
     "text": [
      "--------------------------------------\n",
      "\n",
      "o GDCquery: Searching in GDC database\n",
      "\n",
      "--------------------------------------\n",
      "\n",
      "Genome of reference: hg19\n",
      "\n",
      "--------------------------------------------\n",
      "\n",
      "oo Accessing GDC. This might take a while...\n",
      "\n",
      "--------------------------------------------\n",
      "\n"
     ]
    },
    {
     "ename": "ERROR",
     "evalue": "Error in open.connection(con, \"rb\"): HTTP error 500.\n",
     "output_type": "error",
     "traceback": [
      "Error in open.connection(con, \"rb\"): HTTP error 500.\nTraceback:\n",
      "1. legacyPipeline(\"TCGA-BRCA\", \"DNA methylation\", \"Illumina Human Methylation 27\")",
      "2. GDCquery(project = project, data.category = data.category, platform = platform, \n .     legacy = TRUE)   # at line 2-5 of file <text>",
      "3. getGDCquery(project = proj, data.category = data.category, data.type = data.type, \n .     legacy = legacy, workflow.type = workflow.type, platform = platform, \n .     file.type = file.type, files.access = access, experimental.strategy = experimental.strategy, \n .     sample.type = sample.type)",
      "4. paste0(\"size=\", getNbFiles(project, data.category, legacy))",
      "5. getNbFiles(project, data.category, legacy)",
      "6. getProjectSummary(project, legacy)",
      "7. fromJSON(url, simplifyDataFrame = TRUE)",
      "8. parse_and_simplify(txt = txt, simplifyVector = simplifyVector, \n .     simplifyDataFrame = simplifyDataFrame, simplifyMatrix = simplifyMatrix, \n .     flatten = flatten, ...)",
      "9. parseJSON(txt, bigint_as_char)",
      "10. parse_con(txt, bigint_as_char)",
      "11. open(con, \"rb\")",
      "12. open.connection(con, \"rb\")"
     ]
    }
   ],
   "source": [
    "data <- legacyPipeline(\"TCGA-BRCA\",\"DNA methylation\",\"Illumina Human Methylation 27\")"
   ]
  },
  {
   "cell_type": "code",
   "execution_count": null,
   "id": "51f7c23c-ae6b-4f84-ab48-94485ab698cd",
   "metadata": {},
   "outputs": [
    {
     "name": "stderr",
     "output_type": "stream",
     "text": [
      "Downloading data for project TCGA-BRCA\n",
      "\n",
      "GDCdownload will download 895 files. A total of 19.043226921 GB\n",
      "\n",
      "The total size of files is big. We will download files in chunks\n",
      "\n",
      "Downloading chunk 1 of 20 (46 files, size = 978.592722 MB) as Wed_Aug_25_16_14_30_2021_0.tar.gz\n",
      "\n"
     ]
    },
    {
     "name": "stdout",
     "output_type": "stream",
     "text": [
      "Downloading: 450 MB     "
     ]
    },
    {
     "name": "stderr",
     "output_type": "stream",
     "text": [
      "Downloading chunk 2 of 20 (46 files, size = 978.582408 MB) as Wed_Aug_25_16_14_30_2021_1.tar.gz\n",
      "\n"
     ]
    },
    {
     "name": "stdout",
     "output_type": "stream",
     "text": [
      "Downloading: 450 MB     "
     ]
    },
    {
     "name": "stderr",
     "output_type": "stream",
     "text": [
      "Downloading chunk 3 of 20 (46 files, size = 978.830301 MB) as Wed_Aug_25_16_14_30_2021_2.tar.gz\n",
      "\n"
     ]
    },
    {
     "name": "stdout",
     "output_type": "stream",
     "text": [
      "Downloading: 450 MB     "
     ]
    },
    {
     "name": "stderr",
     "output_type": "stream",
     "text": [
      "Downloading chunk 4 of 20 (46 files, size = 978.709624 MB) as Wed_Aug_25_16_14_30_2021_3.tar.gz\n",
      "\n"
     ]
    },
    {
     "name": "stdout",
     "output_type": "stream",
     "text": [
      "Downloading: 99 MB      "
     ]
    }
   ],
   "source": [
    "GDCdownload(query)"
   ]
  }
 ],
 "metadata": {
  "kernelspec": {
   "display_name": "R",
   "language": "R",
   "name": "ir"
  },
  "language_info": {
   "codemirror_mode": "r",
   "file_extension": ".r",
   "mimetype": "text/x-r-source",
   "name": "R",
   "pygments_lexer": "r",
   "version": "4.1.0"
  }
 },
 "nbformat": 4,
 "nbformat_minor": 5
}
